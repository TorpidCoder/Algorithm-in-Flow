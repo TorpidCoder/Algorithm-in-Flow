{
 "cells": [
  {
   "cell_type": "code",
   "execution_count": 3,
   "metadata": {},
   "outputs": [],
   "source": [
    "def arraypairsum(arr,n,sum):\n",
    "    \n",
    "    count = 0\n",
    "    \n",
    "    for i in range(0,n):\n",
    "        for j in range(i+1,n):\n",
    "            if(arr[i]+arr[j] == sum):\n",
    "                count+=1\n",
    "                \n",
    "    return count\n",
    "\n",
    "arr = [1, 5, 7, -1, 5] \n",
    "n = len(arr) \n",
    "sum = 6"
   ]
  },
  {
   "cell_type": "code",
   "execution_count": 4,
   "metadata": {},
   "outputs": [
    {
     "name": "stdout",
     "output_type": "stream",
     "text": [
      "The count of elements is  3\n"
     ]
    }
   ],
   "source": [
    "print(\"The count of elements is \" ,arraypairsum(arr,n,sum))"
   ]
  },
  {
   "cell_type": "code",
   "execution_count": 37,
   "metadata": {},
   "outputs": [],
   "source": [
    "def arraypairsum_main(arr,n,sum):\n",
    "    \n",
    "    if(len(arr)<2):\n",
    "        print(\"Sorry Cant Process because the size is\",len(arr))\n",
    "    \n",
    "    for i in range(0,n):\n",
    "        for j in range(i+1,n):\n",
    "            if(arr[i]+arr[j]==sum):\n",
    "                print(\"(\" , arr[i] ,  \n",
    "                      \", \", arr[j],  \n",
    "                      \")\",sep = \"\")\n",
    "                \n",
    "arr = [1,5] \n",
    "n = len(arr) \n",
    "sum = 6"
   ]
  },
  {
   "cell_type": "code",
   "execution_count": 38,
   "metadata": {},
   "outputs": [
    {
     "name": "stdout",
     "output_type": "stream",
     "text": [
      "(1, 5)\n",
      "None\n"
     ]
    }
   ],
   "source": [
    "print(arraypairsum_main(arr,n,sum))"
   ]
  },
  {
   "cell_type": "code",
   "execution_count": null,
   "metadata": {},
   "outputs": [],
   "source": []
  }
 ],
 "metadata": {
  "kernelspec": {
   "display_name": "Python 3",
   "language": "python",
   "name": "python3"
  },
  "language_info": {
   "codemirror_mode": {
    "name": "ipython",
    "version": 3
   },
   "file_extension": ".py",
   "mimetype": "text/x-python",
   "name": "python",
   "nbconvert_exporter": "python",
   "pygments_lexer": "ipython3",
   "version": "3.6.4"
  }
 },
 "nbformat": 4,
 "nbformat_minor": 2
}
