{
 "cells": [
  {
   "cell_type": "code",
   "execution_count": 59,
   "metadata": {},
   "outputs": [],
   "source": [
    "openway = [\"{\",\"(\",\"[\"]\n",
    "closeway = [\"}\",\")\",\"]\"]\n",
    "def balancePara(str):\n",
    "    stack = []\n",
    "    \n",
    "    for val in str:\n",
    "    \n",
    "        if val in openway:\n",
    "            stack.append(val)\n",
    "        elif val in closeway:\n",
    "            pos  = closeway.index(val)\n",
    "            if((len(stack)>0) and (openway[pos]==stack[len(stack)-1])):\n",
    "                stack.pop()\n",
    "            else:\n",
    "                return \"UNBALANCED\"\n",
    "    if(len(stack)==0):\n",
    "        return \"BALANCED\"\n",
    "    "
   ]
  },
  {
   "cell_type": "code",
   "execution_count": 64,
   "metadata": {},
   "outputs": [
    {
     "name": "stdout",
     "output_type": "stream",
     "text": [
      "UNBALANCED\n"
     ]
    }
   ],
   "source": [
    "str = \"{{{(([]))}}]\"\n",
    "print(balancePara(str))"
   ]
  },
  {
   "cell_type": "code",
   "execution_count": 73,
   "metadata": {},
   "outputs": [],
   "source": [
    "def balance(s):\n",
    "    \n",
    "    #this is for if the length of string is not equal on each side\n",
    "    if len(s)%2!=0:\n",
    "        return False\n",
    "    \n",
    "    opening = set('[{(')\n",
    "    matches = set([ ('(',')') ,('[',']'),('{','}') ])\n",
    "    \n",
    "    stack = []\n",
    "    \n",
    "    for paran in s:\n",
    "        if paran in opening:\n",
    "            stack.append(paran)\n",
    "        else:\n",
    "            \n",
    "            if(len(stack)==0):\n",
    "                return False\n",
    "            \n",
    "            last_open = stack.pop()\n",
    "            \n",
    "            if(last_open,paran) not in matches:\n",
    "                return False\n",
    "            \n",
    "    return len(stack)==0"
   ]
  },
  {
   "cell_type": "code",
   "execution_count": 80,
   "metadata": {},
   "outputs": [
    {
     "name": "stdout",
     "output_type": "stream",
     "text": [
      "True\n"
     ]
    }
   ],
   "source": [
    "print(balance(s=\"{{{(())}}}[[[({})]]]\"))"
   ]
  },
  {
   "cell_type": "code",
   "execution_count": null,
   "metadata": {},
   "outputs": [],
   "source": []
  }
 ],
 "metadata": {
  "kernelspec": {
   "display_name": "Python 3",
   "language": "python",
   "name": "python3"
  },
  "language_info": {
   "codemirror_mode": {
    "name": "ipython",
    "version": 3
   },
   "file_extension": ".py",
   "mimetype": "text/x-python",
   "name": "python",
   "nbconvert_exporter": "python",
   "pygments_lexer": "ipython3",
   "version": "3.6.4"
  }
 },
 "nbformat": 4,
 "nbformat_minor": 2
}
