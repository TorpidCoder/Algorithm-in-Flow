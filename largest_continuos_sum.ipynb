{
 "cells": [
  {
   "cell_type": "code",
   "execution_count": 1,
   "metadata": {},
   "outputs": [],
   "source": [
    "def continous_sum(arr):\n",
    "    \n",
    "    if(len(arr)==0):\n",
    "        print(\"Cant Process\")\n",
    "        \n",
    "    current_sum = max_sum = arr[0]\n",
    "    \n",
    "    for vals in arr[1:]:\n",
    "        current_sum = max(current_sum+vals , vals)\n",
    "        \n",
    "        max_sum = max(current_sum,max_sum)\n",
    "        \n",
    "    return max_sum\n",
    "\n",
    "arr = [-2, -3, 4, -1, -2, 1, 5, -3]\n",
    "    \n"
   ]
  },
  {
   "cell_type": "code",
   "execution_count": 2,
   "metadata": {},
   "outputs": [
    {
     "name": "stdout",
     "output_type": "stream",
     "text": [
      "7\n"
     ]
    }
   ],
   "source": [
    "print(continous_sum(arr))"
   ]
  },
  {
   "cell_type": "code",
   "execution_count": null,
   "metadata": {},
   "outputs": [],
   "source": []
  }
 ],
 "metadata": {
  "kernelspec": {
   "display_name": "Python 3",
   "language": "python",
   "name": "python3"
  },
  "language_info": {
   "codemirror_mode": {
    "name": "ipython",
    "version": 3
   },
   "file_extension": ".py",
   "mimetype": "text/x-python",
   "name": "python",
   "nbconvert_exporter": "python",
   "pygments_lexer": "ipython3",
   "version": "3.6.4"
  }
 },
 "nbformat": 4,
 "nbformat_minor": 2
}
