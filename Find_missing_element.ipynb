{
 "cells": [
  {
   "cell_type": "code",
   "execution_count": 3,
   "metadata": {},
   "outputs": [],
   "source": [
    "def missing_element(arr1,arr2):\n",
    "    \n",
    "    return list(set(arr1)-set(arr2))\n",
    "\n",
    "arr1=[1,2,3,4,5]\n",
    "arr2=[1,3,4,5]"
   ]
  },
  {
   "cell_type": "code",
   "execution_count": 4,
   "metadata": {},
   "outputs": [
    {
     "name": "stdout",
     "output_type": "stream",
     "text": [
      "[2]\n"
     ]
    }
   ],
   "source": [
    "print(missing_element(arr1,arr2))"
   ]
  },
  {
   "cell_type": "code",
   "execution_count": 12,
   "metadata": {},
   "outputs": [],
   "source": [
    "def missing_element_2(arr1,arr2):\n",
    "    sum_arr1 = 0\n",
    "    sum_arr2 = 0\n",
    "    \n",
    "    for vals in arr1:\n",
    "        sum_arr1 += vals\n",
    "    \n",
    "    for vals2 in arr2:\n",
    "        sum_arr2 += vals2\n",
    "        \n",
    "    print(sum_arr1)\n",
    "    print(sum_arr2)\n",
    "    \n",
    "    print(\"The missing element is \",sum_arr1-sum_arr2)\n",
    "\n",
    "arr1=[1,2,3,4,5]\n",
    "arr2=[1,2,3,5]\n",
    "    \n",
    "        \n",
    "        "
   ]
  },
  {
   "cell_type": "code",
   "execution_count": 13,
   "metadata": {},
   "outputs": [
    {
     "name": "stdout",
     "output_type": "stream",
     "text": [
      "15\n",
      "11\n",
      "The missing element is  4\n",
      "None\n"
     ]
    }
   ],
   "source": [
    "print(missing_element_2(arr1,arr2))"
   ]
  },
  {
   "cell_type": "code",
   "execution_count": null,
   "metadata": {},
   "outputs": [],
   "source": []
  }
 ],
 "metadata": {
  "kernelspec": {
   "display_name": "Python 3",
   "language": "python",
   "name": "python3"
  },
  "language_info": {
   "codemirror_mode": {
    "name": "ipython",
    "version": 3
   },
   "file_extension": ".py",
   "mimetype": "text/x-python",
   "name": "python",
   "nbconvert_exporter": "python",
   "pygments_lexer": "ipython3",
   "version": "3.6.4"
  }
 },
 "nbformat": 4,
 "nbformat_minor": 2
}
