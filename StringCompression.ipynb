{
 "cells": [
  {
   "cell_type": "code",
   "execution_count": 25,
   "metadata": {},
   "outputs": [],
   "source": [
    "from collections import OrderedDict\n",
    "def compress(input):\n",
    "    \n",
    "    if len(input)<2:\n",
    "        return \"Very Short String\"\n",
    "    \n",
    "    dict = OrderedDict.fromkeys(input,0)\n",
    "    \n",
    "    \n",
    "    for word in input:\n",
    "        dict[word]+=1\n",
    "        \n",
    "    output = ''\n",
    "    \n",
    "    for key , value in dict.items():\n",
    "        output = output+key+str(value)\n",
    "    \n",
    "    return output\n",
    "\n"
   ]
  },
  {
   "cell_type": "code",
   "execution_count": 27,
   "metadata": {},
   "outputs": [
    {
     "name": "stdout",
     "output_type": "stream",
     "text": [
      "A1a2s1d1\n"
     ]
    }
   ],
   "source": [
    "print(compress(\"Aaasd\"))"
   ]
  },
  {
   "cell_type": "code",
   "execution_count": null,
   "metadata": {},
   "outputs": [],
   "source": []
  }
 ],
 "metadata": {
  "kernelspec": {
   "display_name": "Python 3",
   "language": "python",
   "name": "python3"
  },
  "language_info": {
   "codemirror_mode": {
    "name": "ipython",
    "version": 3
   },
   "file_extension": ".py",
   "mimetype": "text/x-python",
   "name": "python",
   "nbconvert_exporter": "python",
   "pygments_lexer": "ipython3",
   "version": "3.6.4"
  }
 },
 "nbformat": 4,
 "nbformat_minor": 2
}
